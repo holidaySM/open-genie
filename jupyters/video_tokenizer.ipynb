{
 "cells": [
  {
   "cell_type": "code",
   "execution_count": 1,
   "id": "aba22954-c769-49a3-973e-cdd6c7f0f2c9",
   "metadata": {},
   "outputs": [],
   "source": [
    "import sys\n",
    "sys.path.append('../')\n",
    "\n",
    "%load_ext autoreload\n",
    "%autoreload 2"
   ]
  },
  {
   "cell_type": "code",
   "execution_count": 12,
   "id": "f04f160c-108c-49b9-a453-2d2830b68bd8",
   "metadata": {},
   "outputs": [],
   "source": [
    "import torch\n",
    "import torch.nn as nn\n",
    "import pytorch_lightning as pl\n",
    "from pytorch_lightning import LightningModule\n",
    "import einops\n",
    "from pathlib import Path\n",
    "import imageio\n",
    "from IPython.display import Video\n",
    "\n",
    "from genie.tokenizer import VideoTokenizer\n",
    "from genie.dataset import LightningPlatformer2D"
   ]
  },
  {
   "cell_type": "markdown",
   "id": "2a2627e2-cd6f-4df8-9174-3771378d8985",
   "metadata": {},
   "source": [
    "## Load Model"
   ]
  },
  {
   "cell_type": "code",
   "execution_count": 3,
   "id": "d2f27d9b-a05b-4af1-9333-adae9cacd692",
   "metadata": {},
   "outputs": [],
   "source": [
    "sa_enc_desc = (\n",
    "    ('spacetime_downsample', {\n",
    "        'in_channels' : 3,\n",
    "        'kernel_size' : 3,\n",
    "        'out_channels' : 512,\n",
    "        'time_factor' : 1,\n",
    "        'space_factor' : 4,\n",
    "    }),\n",
    "    ('space-time_attn', {\n",
    "        'n_rep' : 8,\n",
    "        'n_head': 8,\n",
    "        'd_head': 64,\n",
    "    }),\n",
    ")\n",
    "\n",
    "sa_dec_desc = (\n",
    "    ('space-time_attn', {\n",
    "        'n_rep' : 8,\n",
    "        'n_head': 8,\n",
    "        'd_head': 64,\n",
    "    }),\n",
    "    ('depth2spacetime_upsample', {\n",
    "        'in_channels' : 512,\n",
    "        'kernel_size' : 3,\n",
    "        'out_channels' : 3,\n",
    "        'time_factor' : 1,\n",
    "        'space_factor' : 4,\n",
    "    })\n",
    ")\n",
    "\n",
    "sa_disc_desc = {\n",
    "    'inp_size': [64, 64],\n",
    "    'model_dim': 128,\n",
    "    'num_heads': 8,\n",
    "    'dim_mults': [1, 2, 4],\n",
    "    'down_step': [None, 2, 2],\n",
    "    'inp_channels': 3,\n",
    "    'kernel_size': 3,\n",
    "    'num_groups': 8,\n",
    "    'act_fn': 'leaky',\n",
    "    'use_blur': True,\n",
    "    'use_attn': True,\n",
    "}"
   ]
  },
  {
   "cell_type": "code",
   "execution_count": 4,
   "id": "28afb87c-2a31-469a-add1-3cf8dc399068",
   "metadata": {},
   "outputs": [],
   "source": [
    "video_tokenizer = VideoTokenizer(\n",
    "    enc_desc=sa_enc_desc,\n",
    "    dec_desc=sa_dec_desc,\n",
    "    disc_kwargs=sa_disc_desc,\n",
    "    d_codebook=10,\n",
    "    n_codebook=1,\n",
    "    lfq_bias=True,\n",
    "    lfq_frac_sample=1,\n",
    "    lfq_commit_weight= 0.25,\n",
    "    lfq_entropy_weight= 0.01,\n",
    "    lfq_diversity_weight= 1.,\n",
    "    optimizer=torch.optim.AdamW,\n",
    "    perceptual_model='vgg16',\n",
    "    perc_feat_layers=('features.6', 'features.13', 'features.18', 'features.25'),\n",
    "    gan_discriminate='frames',\n",
    "    gan_frames_per_batch=4,\n",
    "    gan_loss_weight=0.1,\n",
    "    perc_loss_weight=0.1,\n",
    "    quant_loss_weight=0.1,\n",
    ")"
   ]
  },
  {
   "cell_type": "code",
   "execution_count": 5,
   "id": "261acd6a-0ad5-46a3-8973-d4b141fbe44d",
   "metadata": {},
   "outputs": [
    {
     "name": "stderr",
     "output_type": "stream",
     "text": [
      "/tmp/ipykernel_3319175/2079939328.py:2: FutureWarning: You are using `torch.load` with `weights_only=False` (the current default value), which uses the default pickle module implicitly. It is possible to construct malicious pickle data which will execute arbitrary code during unpickling (See https://github.com/pytorch/pytorch/blob/main/SECURITY.md#untrusted-models for more details). In a future release, the default value for `weights_only` will be flipped to `True`. This limits the functions that could be executed during unpickling. Arbitrary objects will no longer be allowed to be loaded via this mode unless they are explicitly allowlisted by the user via `torch.serialization.add_safe_globals`. We recommend you start setting `weights_only=True` for any use case where you don't have full control of the loaded file. Please open an issue on GitHub for any issues related to this experimental feature.\n",
      "  ckpt = torch.load(ckpt_path)\n"
     ]
    }
   ],
   "source": [
    "ckpt_path = '/home/sm/PycharmProjects/open-genie/open-genie/video_tokenizer1/checkpoints/last.ckpt'\n",
    "ckpt = torch.load(ckpt_path)"
   ]
  },
  {
   "cell_type": "code",
   "execution_count": 6,
   "id": "9628db18-7906-4ce6-bde9-f32b79c29be3",
   "metadata": {},
   "outputs": [],
   "source": [
    "tokenizer = video_tokenizer.load_state_dict(ckpt['state_dict'])"
   ]
  },
  {
   "cell_type": "markdown",
   "id": "570d8036-c72d-47e7-968b-f827be58062e",
   "metadata": {},
   "source": [
    "## Create Dataset"
   ]
  },
  {
   "cell_type": "code",
   "execution_count": 7,
   "id": "16b6d1cd-0a30-4bc5-b355-b94150f73b6f",
   "metadata": {},
   "outputs": [],
   "source": [
    "dataset = LightningPlatformer2D(\n",
    "    root='/home/sm/Datasets/open-genie',\n",
    "    env_name='Coinrun',\n",
    "    padding=None,\n",
    "    randomize=True,\n",
    "    transform=None,\n",
    "    num_frames=16,\n",
    "    batch_size=8,\n",
    "    output_format='c t h w',\n",
    "    num_workers=1\n",
    ")\n",
    "\n",
    "dataset.setup('fit')"
   ]
  },
  {
   "cell_type": "code",
   "execution_count": 8,
   "id": "373bdda3-d3cf-426a-aa5c-45a55eec4563",
   "metadata": {},
   "outputs": [],
   "source": [
    "val_dataset = dataset.valid_dataset"
   ]
  },
  {
   "cell_type": "code",
   "execution_count": 9,
   "id": "c2442352-3ab3-48f0-8828-f4c12f43b5e5",
   "metadata": {},
   "outputs": [
    {
     "data": {
      "text/plain": [
       "torch.Size([3, 16, 64, 64])"
      ]
     },
     "execution_count": 9,
     "metadata": {},
     "output_type": "execute_result"
    }
   ],
   "source": [
    "val_dataset[0].size()"
   ]
  },
  {
   "cell_type": "code",
   "execution_count": 21,
   "id": "c823511c-5c53-4d22-a0cd-721ab8b55b4c",
   "metadata": {},
   "outputs": [],
   "source": [
    "def show_video(episode_index, dataset):\n",
    "    frames = dataset[episode_index]\n",
    "    Path(\"outputs/examples\").mkdir(parents=True, exist_ok=True)\n",
    "    video_path = f\"outputs/examples/{episode_index}.mp4\"\n",
    "    return show_video_frames(frames, video_path)"
   ]
  },
  {
   "cell_type": "code",
   "execution_count": 22,
   "id": "6a9c72a6-7c10-4208-a30d-edad2dcf948c",
   "metadata": {},
   "outputs": [],
   "source": [
    "def show_video_frames(frames, video_path):\n",
    "    frames = einops.rearrange(frames, 'c t h w -> t c h w')\n",
    "    frames = [(frame * 255).type(torch.uint8).permute(1, 2, 0) for frame in frames]\n",
    "    frames = [frame.numpy() for frame in frames]\n",
    "    imageio.mimsave(video_path, frames, fps=10)\n",
    "    \n",
    "    return video_path"
   ]
  },
  {
   "cell_type": "code",
   "execution_count": 23,
   "id": "a8c9f0b3-b4b5-40b7-a86c-066681732173",
   "metadata": {},
   "outputs": [
    {
     "data": {
      "text/html": [
       "<video controls  width=\"360\"  height=\"360\">\n",
       " <source src=\"data:video/mp4;base64,AAAAIGZ0eXBpc29tAAACAGlzb21pc28yYXZjMW1wNDEAAAAIZnJlZQAADc1tZGF0AAACrgYF//+q3EXpvebZSLeWLNgg2SPu73gyNjQgLSBjb3JlIDE1OSByMjk5MSAxNzcxYjU1IC0gSC4yNjQvTVBFRy00IEFWQyBjb2RlYyAtIENvcHlsZWZ0IDIwMDMtMjAxOSAtIGh0dHA6Ly93d3cudmlkZW9sYW4ub3JnL3gyNjQuaHRtbCAtIG9wdGlvbnM6IGNhYmFjPTEgcmVmPTMgZGVibG9jaz0xOjA6MCBhbmFseXNlPTB4MzoweDExMyBtZT1oZXggc3VibWU9NyBwc3k9MSBwc3lfcmQ9MS4wMDowLjAwIG1peGVkX3JlZj0xIG1lX3JhbmdlPTE2IGNocm9tYV9tZT0xIHRyZWxsaXM9MSA4eDhkY3Q9MSBjcW09MCBkZWFkem9uZT0yMSwxMSBmYXN0X3Bza2lwPTEgY2hyb21hX3FwX29mZnNldD0tMiB0aHJlYWRzPTIgbG9va2FoZWFkX3RocmVhZHM9MSBzbGljZWRfdGhyZWFkcz0wIG5yPTAgZGVjaW1hdGU9MSBpbnRlcmxhY2VkPTAgYmx1cmF5X2NvbXBhdD0wIGNvbnN0cmFpbmVkX2ludHJhPTAgYmZyYW1lcz0zIGJfcHlyYW1pZD0yIGJfYWRhcHQ9MSBiX2JpYXM9MCBkaXJlY3Q9MSB3ZWlnaHRiPTEgb3Blbl9nb3A9MCB3ZWlnaHRwPTIga2V5aW50PTI1MCBrZXlpbnRfbWluPTEwIHNjZW5lY3V0PTQwIGludHJhX3JlZnJlc2g9MCByY19sb29rYWhlYWQ9NDAgcmM9Y3JmIG1idHJlZT0xIGNyZj0yMy4wIHFjb21wPTAuNjAgcXBtaW49MCBxcG1heD02OSBxcHN0ZXA9NCBpcF9yYXRpbz0xLjQwIGFxPTE6MS4wMACAAAABrWWIhAF/Y2Jn5T02zi2uT+slDpNUAuYMjfTP/WB4uqYjPu3fIU0RW/S+FwjacWYV9XHLImrXIXF/22UkojPIHJwA0DgQ5lnq1DPGwQDIBeE75Jqdgya/fSI4Mp8aQJK6NBWcbJGVZKuwBJDPPnqheydMw/STJa+yzVPpQWpUQzgMhV/e4xI2scZt1BRqWYokJmNUKtXY/wOsUPqPLhitvD+F73+UCkBbY641Esghewbe26406ru830H6KTVWayqx2xCcJrFEXp+9chSx7ZEpTlOpJPnydCA2yvkraYDmdCN8w9mPNBUtsHDnu2mI2kRZ8FIcssjjTq6FRV/4L9pYJK3MUdy2Iul5whAYretRq4KuOv5q9z4TSltYMW+B5VKFgbxG6cV7LNYI02PVUjKjD4sQoPwf5CmZZdh8EXVd7kaEN1XR/UAj+G6/biIUF4FRwHhGfMuTmQC1d2UCvt8r3vgQF3BT8wDsjc4M7sNr9uJAgcFgmGY2GDES2cqOemUcFbfh2YvK6dt+HRJJAPgFLhPnZy14aqJE48A9z+m30o6P7cQGVIF0hyC4ojbhYQAAAShBmiFsV/CmZ2SoXWy3jTMMu/YEMPegFIWKRNbY4/aagbAUxBE6ovQ9sn2PscNCSoHoXTuQRPa8kPXgfZRgI4lDPobsm14NWd9NzULz4HXenUYbYP4wAGaSe1ASa/nc5OYDComt4psugGYn0fgArdIby3z6b+oablfuMRsmJSva6ErbQmVE7pys6dgqrXfi2Uz2/iwz28myo2DPTCoCmUjtsmZZoT+vVqXPYA134bEN5SQh16Ed3aqMYu+whuS/+OEa261DMTD0bTwW51hatP+f4HdriBY3X20LkbRI13WR48sE4CsWEdta2sUukiBnfdtnu2fkqbvi/yv+H0ioMsIxdhhDLsYqB2iO1fIRFn+TElK/TUQSJx1v4lMNqclVS6da/PbenD3dkgAAAKlBmkI8IZMphX/0eQ96NnuTr1sFUwUpakyB5w+w6EGEQ6FIsbxU0KekoZyixTpmTkiTwR49WcImzUPgSHxV74NN4WDLyPJU242iqewh5OO5s6NnEGcb4yv8e40aev1g90xVvJ/8DYSFZz5T3JujZ/7f72M/a5eDx9K8qyIDHsMwH6XYNFd0ng7JjKofW3cKu4/Jf8R8MLQ3zSzUhkhWIzsu0MH7sAiiub0xAAAArkGaY0nhDyZTA//w2rZ2vCelQTTulDnbLKOh7cRgPTUJOOvgIf1bT1Yu2NJz/hn4KUYcL4atiP7Pnw+oUdFf1qwyDbhLgOTdsO1XgLmxMuovj4M86iaNvVth2xOtSJZhhjfBFNxbFpWN919dZJk8WBkn6BMqqQVflsY3LqgmwtseYUBLoGdem+KqHQy3HyroRwLPInq5U96+z0k9GzlSuy+fYUKqSoQusLUA5KOxfgAAANZBmoZJ4Q8mUwK/+yJCc/9XpX7vfuhOqCurmtt595qAdaKs2BpsMDqcvcUCpVPVF/g2UpZ8qsi0o+li//2semGEZJvcNXAE2uJqqthVvQ7MYsYMz0rJwB09yEGIlulfdiiCFj8QHBeEHue7eNw+wJyO1/pA+j0uRyBbNoLZrYhusQUa7xspBsNe1BnF6aprcZQ2K5VXMzN1v7XKZXTJ4Ps8Ko1fsa+dm7BUSwNfd8gC6QoED6DgmXBnUXIQlbwwAXfq8ILmyGVKbZCur1nngaA/anlTIJl1AAAAN0GepEURP//txevh15COtVlXpT+oFJAxvzqV5WM5FP/56qvYEsa3sxBNlAsGTi8EKtRX2ccxkOEAAABTAZ7Falfi0JMDJLPqHFPTB5Twmt75kyiVWd3Ulh10gD//PjbB1VB6ODpo7JqGCmbgIHbkqYzl0/wMcsZTbPkqg2ctlLdskjxCdtcsGQP8Z13dAYEAAAFNQZrJSahBaJlMCv+8WtUSsAPtpM0A5ueUh8mC4AKPbl0oZSo2jK+wKDsUZjqe33L19oLceQfwh8GyJmjQAmqtql9qvDMfRl3yURbLlLPy2FAIUSulR8pu3UYTJckk2AKZ0jmmUf84lom847Dqn/QK/Anxq39TIDtVJIkyfbFkWufVqIUWiyuP1qOZB7Kd68JoxUejsH5EKLPe5xswFYcSUtZi4WkviS0qeZpkg/Gxsl1wtb70ReWmyh9I338krbkS9l9tj0ffubx4NdNPrtcHbRMIOMv2THv4jOa0/21TN+G8yyS6BetHIHryWVxG/cQ55ti/euQ/IKXOmgmkrJvsg+Qcw9+uroyLUiQftcpv6Qu5HMTUDJ+y4JXloH2If1S4sVG5BQby9k+jNj20Fs1l64EsnuXgJ27QvUk5H+ciU7n3zV+QrQrT5bD/CmClAAAATUGe50URL//mXXzNCy8MqZdExIscYH8RofDSCTXBnOAMYqzo6CXBOu4bhCeDR3rVs7dvCOcTyicdrkQP6hTkOxqH0azUNBvz8zQZzr+AAAAAVQGfCGpX8GdsbYDNGvvwSVHyEb2V4frR6nzuaukz5ac02/dghq82bZ5QkYdLFfwkBj5hasEWyRU+Fz84JmaOX/BRLfQQP/s14ycNMG5POS3WLqCH3IAAAAEiQZsKSahBbJlMD//hbJGgqnzHW224fGJowxaaNdQF4NhVS01D0HajGhrTeLy95mfQNG+HNwFaufo9krKNBGG7jSTYjpQtDopB1a9VF/QBUKg7/0zOVC7SNQvpdSpr3UYaD/SAXBqMkACci0SI97ZCWbDabFDr06k1vGTZG+dxkbmrxs1rWsSaROWI59TdMj3xWtjP0V+HAyAitkC5z1q93FuBEMI+1Y8Jl81EO6t8+gTVh1K167h6QpIM4/NnLkJdmsArDpZW7H2GhqQasZLt6Bnk3PGwMM2GD1LGCjxGcXI/1z1kVMNeM3+l5Jiy+JVBTjtWsPapg3ZvmSVNezM7UR4coxJLKtyuRNRjJ1NgDwt0dsHwFkMBtN2gKG+6lGX54SMAAACbQZssSeEKUmUwUVLXrcu9jJasa/Yzd+6wcSjSwHA2w7mYos31UTgWyvKGr4u+Fe9Yx0im+XTN7pCrW6ofpgnZPRFp+GhAY+PDybT5hdhZI/8pS1BrjFsPFPrRllG9VLe4M7l6+3JJ4H2rkG0DIssg6HB6EBO+q3P/gRm6X+W+tSLvhYLnDKv3zDfbtJNtN9eCoLak1QibNVxVelcAAAAQAZ9Lalfpih114tO+Ji/HuQAAALRBm01J4Q6JlMCvxUdH9GIdhKoxbKkAPNlckKSRhzSQmV14+crpLlNPGD5YXMy9+4bgde7AQnJcHecZOZpn+X14wSyQ4EopERNBFnDAGkOugiEExGjUGYmKsL5Rn5HYEydzmfKrF2cwj7shJjQMsCZ9XHBHr8vtJ26+Xyxwuqs52c9PG8KXg6uLVtneQa0978w/VVORaPIcs4CrErGhWW9SfkOgfGFUZvP5gmhOaWoXRT9C7C8AAACDQZtvSeEPJlMFFT1/xI50N8VbNoLqVmAN7VEtWaydjdzGHCY8k4pvD0sCR2scm+s/MKwSh+2iHSV+GDce62cao3cjD/3ZzU1YEWAfmqtL+wuxs8dO/rA+AmwND8BhJslzI9naDMtVK7G7i7nkMUm88ILNAJwwjC6bSE+/c6vT/NcVPB8AAABUAZ+OalfxwImtuWYtsQ4iKiQSSmPQQwwM7zw+1tnhQ7MzJCvFGW5pjZgufX3ob+baSep8qRzzUdekOlWgaMEgemN9LwvO5joHIztXtcSqj0by4V4JAAADqW1vb3YAAABsbXZoZAAAAAAAAAAAAAAAAAAAA+gAAAZAAAEAAAEAAAAAAAAAAAAAAAABAAAAAAAAAAAAAAAAAAAAAQAAAAAAAAAAAAAAAAAAQAAAAAAAAAAAAAAAAAAAAAAAAAAAAAAAAAAAAAAAAAIAAALTdHJhawAAAFx0a2hkAAAAAwAAAAAAAAAAAAAAAQAAAAAAAAZAAAAAAAAAAAAAAAAAAAAAAAABAAAAAAAAAAAAAAAAAAAAAQAAAAAAAAAAAAAAAAAAQAAAAABAAAAAQAAAAAAAJGVkdHMAAAAcZWxzdAAAAAAAAAABAAAGQAAACAAAAQAAAAACS21kaWEAAAAgbWRoZAAAAAAAAAAAAAAAAAAAKAAAAEAAVcQAAAAAAC1oZGxyAAAAAAAAAAB2aWRlAAAAAAAAAAAAAAAAVmlkZW9IYW5kbGVyAAAAAfZtaW5mAAAAFHZtaGQAAAABAAAAAAAAAAAAAAAkZGluZgAAABxkcmVmAAAAAAAAAAEAAAAMdXJsIAAAAAEAAAG2c3RibAAAAJZzdHNkAAAAAAAAAAEAAACGYXZjMQAAAAAAAAABAAAAAAAAAAAAAAAAAAAAAABAAEAASAAAAEgAAAAAAAAAAQAAAAAAAAAAAAAAAAAAAAAAAAAAAAAAAAAAAAAAAAAAABj//wAAADBhdmNDAWQACv/hABdnZAAKrNlEJoQAAAMABAAAAwBQPEiWWAEABmjr48siwAAAABhzdHRzAAAAAAAAAAEAAAAQAAAEAAAAABRzdHNzAAAAAAAAAAEAAAABAAAAaGN0dHMAAAAAAAAACwAAAAQAAAgAAAAAAQAAEAAAAAACAAAEAAAAAAEAABAAAAAAAgAABAAAAAABAAAIAAAAAAEAAAwAAAAAAQAABAAAAAABAAAIAAAAAAEAAAwAAAAAAQAABAAAAAAcc3RzYwAAAAAAAAABAAAAAQAAABAAAAABAAAAVHN0c3oAAAAAAAAAAAAAABAAAARjAAABLAAAAK0AAACyAAAA2gAAADsAAABXAAABUQAAAFEAAABZAAABJgAAAJ8AAAAUAAAAuAAAAIcAAABYAAAAFHN0Y28AAAAAAAAAAQAAADAAAABidWR0YQAAAFptZXRhAAAAAAAAACFoZGxyAAAAAAAAAABtZGlyYXBwbAAAAAAAAAAAAAAAAC1pbHN0AAAAJal0b28AAAAdZGF0YQAAAAEAAAAATGF2ZjU4LjI5LjEwMA==\" type=\"video/mp4\">\n",
       " Your browser does not support the video tag.\n",
       " </video>"
      ],
      "text/plain": [
       "<IPython.core.display.Video object>"
      ]
     },
     "execution_count": 23,
     "metadata": {},
     "output_type": "execute_result"
    }
   ],
   "source": [
    "video_path = show_video(0, val_dataset)\n",
    "Video(video_path, embed=True, width=360, height=360)"
   ]
  },
  {
   "cell_type": "code",
   "execution_count": 24,
   "id": "16557935-273b-4db7-99bc-b4b79a6f00df",
   "metadata": {},
   "outputs": [],
   "source": [
    "tokens, idxs = video_tokenizer.tokenize(val_dataset[0].unsqueeze(0))"
   ]
  },
  {
   "cell_type": "code",
   "execution_count": 25,
   "id": "f83e9b10-aae6-4851-9ca9-5d44e86277bb",
   "metadata": {},
   "outputs": [],
   "source": [
    "rec_video = video_tokenizer.decode(tokens)"
   ]
  },
  {
   "cell_type": "code",
   "execution_count": 27,
   "id": "2f437e5d-1190-4d77-b53c-43564231c34e",
   "metadata": {},
   "outputs": [
    {
     "data": {
      "text/html": [
       "<video controls  width=\"360\"  height=\"360\">\n",
       " <source src=\"data:video/mp4;base64,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\" type=\"video/mp4\">\n",
       " Your browser does not support the video tag.\n",
       " </video>"
      ],
      "text/plain": [
       "<IPython.core.display.Video object>"
      ]
     },
     "execution_count": 27,
     "metadata": {},
     "output_type": "execute_result"
    }
   ],
   "source": [
    "rec_video_path = show_video_frames(rec_video.squeeze(0), video_path = f\"outputs/examples/rec.mp4\")\n",
    "Video(rec_video_path, embed=True, width=360, height=360)"
   ]
  },
  {
   "cell_type": "code",
   "execution_count": null,
   "id": "db265039-6602-4c65-bdc4-96fe2be15d48",
   "metadata": {},
   "outputs": [],
   "source": []
  }
 ],
 "metadata": {
  "kernelspec": {
   "display_name": "Python 3 (ipykernel)",
   "language": "python",
   "name": "python3"
  },
  "language_info": {
   "codemirror_mode": {
    "name": "ipython",
    "version": 3
   },
   "file_extension": ".py",
   "mimetype": "text/x-python",
   "name": "python",
   "nbconvert_exporter": "python",
   "pygments_lexer": "ipython3",
   "version": "3.10.15"
  }
 },
 "nbformat": 4,
 "nbformat_minor": 5
}
